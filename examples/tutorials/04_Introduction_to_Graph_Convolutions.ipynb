{
  "nbformat": 4,
  "nbformat_minor": 0,
  "metadata": {
    "kernelspec": {
      "name": "python3",
      "display_name": "Python 3"
    },
    "language_info": {
      "codemirror_mode": {
        "name": "ipython",
        "version": 3
      },
      "file_extension": ".py",
      "mimetype": "text/x-python",
      "name": "python",
      "nbconvert_exporter": "python",
      "pygments_lexer": "ipython3",
      "version": "3.6.10"
    },
    "colab": {
      "name": "04_Introduction_to_Graph_Convolutions.ipynb",
      "provenance": []
    },
    "accelerator": "GPU"
  },
  "cells": [
    {
      "cell_type": "markdown",
      "metadata": {
        "id": "ubFUlqz8cj1L",
        "colab_type": "text"
      },
      "source": [
        "# Tutorial Part 4: Introduction to Graph Convolutions\n",
        "\n",
        "In the previous sections of the tutorial, we learned about `Dataset` and `Model` objects. We learned how to load some data into DeepChem from files on disk and also learned some basic facts about molecular data handling. We then dove into some basic deep learning architectures. However, until now, we stuck with vanilla deep learning architectures and didn't really consider how to handle deep architectures specifically engineered to work with life science data.\n",
        "\n",
        "In this tutorial, we'll change that by going a little deeper and learn about \"graph convolutions.\" These are one of the most powerful deep learning tools for working with molecular data. The reason for this is that molecules can be naturally viewed as graphs.\n",
        "\n",
        "![Molecular Graph](https://github.com/deepchem/deepchem/blob/master/examples/tutorials/basic_graphs.gif?raw=1)\n",
        "\n",
        "Note how standard chemical diagrams of the sort we're used to from high school lend themselves naturally to visualizing molecules as graphs. In the remainder of this tutorial, we'll dig into this relationship in significantly more detail. This will let us get an in-the guts understanding of how these systems work.\n",
        "\n",
        "## Colab\n",
        "\n",
        "This tutorial and the rest in this sequence are designed to be done in Google colab. If you'd like to open this notebook in colab, you can use the following link.\n",
        "\n",
        "[![Open In Colab](https://colab.research.google.com/assets/colab-badge.svg)](https://colab.research.google.com/github/deepchem/deepchem/blob/master/examples/tutorials/04_Introduction_to_Graph_Convolutions.ipynb)\n",
        "\n",
        "## Setup\n",
        "\n",
        "To run DeepChem within Colab, you'll need to run the following cell of installation commands. This will take about 5 minutes to run to completion and install your environment."
      ]
    },
    {
      "cell_type": "code",
      "metadata": {
        "id": "EoCLxSnBcj1N",
        "colab_type": "code",
        "colab": {
          "base_uri": "https://localhost:8080/",
          "height": 156
        },
        "outputId": "d0555806-a13b-4522-c845-c36a7f910fca"
      },
      "source": [
        "!curl -Lo conda_installer.py https://raw.githubusercontent.com/deepchem/deepchem/master/scripts/colab_install.py\n",
        "import conda_installer\n",
        "conda_installer.install()\n",
        "!/root/miniconda/bin/conda info -e"
      ],
      "execution_count": 10,
      "outputs": [
        {
          "output_type": "stream",
          "text": [
            "  % Total    % Received % Xferd  Average Speed   Time    Time     Time  Current\n",
            "                                 Dload  Upload   Total   Spent    Left  Speed\n",
            "100  3490  100  3490    0     0  18177      0 --:--:-- --:--:-- --:--:-- 18082\n"
          ],
          "name": "stdout"
        },
        {
          "output_type": "stream",
          "text": [
            "all packages are already installed\n"
          ],
          "name": "stderr"
        },
        {
          "output_type": "stream",
          "text": [
            "# conda environments:\n",
            "#\n",
            "base                  *  /root/miniconda\n",
            "\n"
          ],
          "name": "stdout"
        }
      ]
    },
    {
      "cell_type": "code",
      "metadata": {
        "id": "3Jv2cmnW91CF",
        "colab_type": "code",
        "colab": {
          "base_uri": "https://localhost:8080/",
          "height": 211
        },
        "outputId": "bd523c54-3038-4654-89ad-356ad1e207ca"
      },
      "source": [
        "!pip install --pre deepchem\n",
        "import deepchem\n",
        "deepchem.__version__"
      ],
      "execution_count": 11,
      "outputs": [
        {
          "output_type": "stream",
          "text": [
            "Requirement already satisfied: deepchem in /usr/local/lib/python3.6/dist-packages (2.4.0rc1.dev20200908171924)\n",
            "Requirement already satisfied: numpy in /usr/local/lib/python3.6/dist-packages (from deepchem) (1.18.5)\n",
            "Requirement already satisfied: pandas in /usr/local/lib/python3.6/dist-packages (from deepchem) (1.0.5)\n",
            "Requirement already satisfied: joblib in /usr/local/lib/python3.6/dist-packages (from deepchem) (0.16.0)\n",
            "Requirement already satisfied: scikit-learn in /usr/local/lib/python3.6/dist-packages (from deepchem) (0.22.2.post1)\n",
            "Requirement already satisfied: scipy in /usr/local/lib/python3.6/dist-packages (from deepchem) (1.4.1)\n",
            "Requirement already satisfied: pytz>=2017.2 in /usr/local/lib/python3.6/dist-packages (from pandas->deepchem) (2018.9)\n",
            "Requirement already satisfied: python-dateutil>=2.6.1 in /usr/local/lib/python3.6/dist-packages (from pandas->deepchem) (2.8.1)\n",
            "Requirement already satisfied: six>=1.5 in /usr/local/lib/python3.6/dist-packages (from python-dateutil>=2.6.1->pandas->deepchem) (1.15.0)\n"
          ],
          "name": "stdout"
        },
        {
          "output_type": "execute_result",
          "data": {
            "application/vnd.google.colaboratory.intrinsic+json": {
              "type": "string"
            },
            "text/plain": [
              "'2.4.0-rc1.dev'"
            ]
          },
          "metadata": {
            "tags": []
          },
          "execution_count": 11
        }
      ]
    },
    {
      "cell_type": "markdown",
      "metadata": {
        "id": "iEMqPVorcj1R",
        "colab_type": "text"
      },
      "source": [
        "Ok now that we have our environment installed, we can actually import the core `GraphConvModel` that we'll use through this tutorial."
      ]
    },
    {
      "cell_type": "code",
      "metadata": {
        "id": "Ph78CIgAcj1S",
        "colab_type": "code",
        "colab": {}
      },
      "source": [
        "import deepchem as dc\n",
        "from deepchem.models.graph_models import GraphConvModel"
      ],
      "execution_count": 12,
      "outputs": []
    },
    {
      "cell_type": "markdown",
      "metadata": {
        "id": "BX2erW0ncj1W",
        "colab_type": "text"
      },
      "source": [
        "Now, let's use the MoleculeNet suite  to load the Tox21 dataset. We need to make sure to process the data in a way that graph convolutional networks can use for that, we make sure to set the featurizer option to 'GraphConv'. The MoleculeNet call will return a training set, a validation set, and a test set for us to use. The call also returns `transformers`, a list of data transformations that were applied to preprocess the dataset. (Most deep networks are quite finicky and require a set of data transformations to ensure that training proceeds stably.)"
      ]
    },
    {
      "cell_type": "code",
      "metadata": {
        "id": "JMi2V8Jncj1W",
        "colab_type": "code",
        "colab": {
          "base_uri": "https://localhost:8080/",
          "height": 89
        },
        "outputId": "56ab5eb6-07be-4d8f-c19b-88d1f73f2f46"
      },
      "source": [
        "# Load Tox21 dataset\n",
        "tox21_tasks, tox21_datasets, transformers = dc.molnet.load_tox21(featurizer='GraphConv', reload=False)\n",
        "train_dataset, valid_dataset, test_dataset = tox21_datasets"
      ],
      "execution_count": 13,
      "outputs": [
        {
          "output_type": "stream",
          "text": [
            "smiles_field is deprecated and will be removed in a future version of DeepChem.Use feature_field instead.\n",
            "/usr/local/lib/python3.6/dist-packages/deepchem/data/data_loader.py:162: FutureWarning: featurize() is deprecated and has been renamed to create_dataset().featurize() will be removed in DeepChem 3.0\n",
            "  \"featurize() will be removed in DeepChem 3.0\", FutureWarning)\n"
          ],
          "name": "stderr"
        }
      ]
    },
    {
      "cell_type": "markdown",
      "metadata": {
        "id": "QfMW0Y4Kcj1Z",
        "colab_type": "text"
      },
      "source": [
        "Let's now train a graph convolutional network on this dataset. DeepChem has the class `GraphConvModel` that wraps a standard graph convolutional architecture underneath the hood for user convenience. Let's instantiate an object of this class and train it on our dataset."
      ]
    },
    {
      "cell_type": "code",
      "metadata": {
        "id": "Y9n3jTNHcj1a",
        "colab_type": "code",
        "colab": {
          "base_uri": "https://localhost:8080/",
          "height": 245
        },
        "outputId": "2caab2e5-5e5a-4f97-a440-753692341d35"
      },
      "source": [
        "n_tasks = len(tox21_tasks)\n",
        "model = GraphConvModel(n_tasks, batch_size=50, mode='classification')\n",
        "\n",
        "num_epochs = 10\n",
        "losses = []\n",
        "for i in range(num_epochs):\n",
        " loss = model.fit(train_dataset, nb_epoch=1)\n",
        " print(\"Epoch %d loss: %f\" % (i, loss))\n",
        " losses.append(loss)"
      ],
      "execution_count": 14,
      "outputs": [
        {
          "output_type": "stream",
          "text": [
            "/usr/local/lib/python3.6/dist-packages/tensorflow/python/framework/indexed_slices.py:432: UserWarning: Converting sparse IndexedSlices to a dense Tensor of unknown shape. This may consume a large amount of memory.\n",
            "  \"Converting sparse IndexedSlices to a dense Tensor of unknown shape. \"\n"
          ],
          "name": "stderr"
        },
        {
          "output_type": "stream",
          "text": [
            "Epoch 0 loss: 0.196743\n",
            "Epoch 1 loss: 0.179927\n",
            "Epoch 2 loss: 0.167149\n",
            "Epoch 3 loss: 0.131064\n",
            "Epoch 4 loss: 0.155983\n",
            "Epoch 5 loss: 0.152273\n",
            "Epoch 6 loss: 0.144918\n",
            "Epoch 7 loss: 0.132300\n",
            "Epoch 8 loss: 0.140850\n",
            "Epoch 9 loss: 0.137812\n"
          ],
          "name": "stdout"
        }
      ]
    },
    {
      "cell_type": "markdown",
      "metadata": {
        "id": "ozuyj_umcj1c",
        "colab_type": "text"
      },
      "source": [
        "Let's plot these losses so we can take a look at how the loss changes over the process of training."
      ]
    },
    {
      "cell_type": "code",
      "metadata": {
        "id": "qbDXnYs7cj1d",
        "colab_type": "code",
        "colab": {
          "base_uri": "https://localhost:8080/",
          "height": 283
        },
        "outputId": "cefc40a9-15c4-4d02-b4a2-81009a35c042"
      },
      "source": [
        "import matplotlib.pyplot as plot\n",
        "\n",
        "plot.ylabel(\"Loss\")\n",
        "plot.xlabel(\"Epoch\")\n",
        "x = range(num_epochs)\n",
        "y = losses\n",
        "plot.scatter(x, y)\n",
        "plot.show()"
      ],
      "execution_count": 15,
      "outputs": [
        {
          "output_type": "display_data",
          "data": {
            "image/png": "[encoded data removed]",
            "text/plain": [
              "<Figure size 432x288 with 1 Axes>"
            ]
          },
          "metadata": {
            "tags": [],
            "needs_background": "light"
          }
        }
      ]
    },
    {
      "cell_type": "markdown",
      "metadata": {
        "id": "kDDroutEcj1g",
        "colab_type": "text"
      },
      "source": [
        "We see that the losses fall nicely and give us stable learning.\n",
        "\n",
        "Let's try to evaluate the performance of the model we've trained. For this, we need to define a metric, a measure of model performance. `dc.metrics` holds a collection of metrics already. For this dataset, it is standard to use the ROC-AUC score, the area under the receiver operating characteristic curve (which measures the tradeoff between precision and recall). Luckily, the ROC-AUC score is already available in DeepChem. \n",
        "\n",
        "To measure the performance of the model under this metric, we can use the convenience function `model.evaluate()`."
      ]
    },
    {
      "cell_type": "code",
      "metadata": {
        "id": "MeX-9RNWcj1h",
        "colab_type": "code",
        "colab": {
          "base_uri": "https://localhost:8080/",
          "height": 69
        },
        "outputId": "642d3f81-33de-46bb-fc7a-8b5edda99881"
      },
      "source": [
        "import numpy as np\n",
        "metric = dc.metrics.Metric(dc.metrics.roc_auc_score, np.mean)\n",
        "\n",
        "print(\"Evaluating model\")\n",
        "train_scores = model.evaluate(train_dataset, [metric], transformers)\n",
        "print(\"Training ROC-AUC Score: %f\" % train_scores[\"mean-roc_auc_score\"])\n",
        "valid_scores = model.evaluate(valid_dataset, [metric], transformers)\n",
        "print(\"Validation ROC-AUC Score: %f\" % valid_scores[\"mean-roc_auc_score\"])"
      ],
      "execution_count": 16,
      "outputs": [
        {
          "output_type": "stream",
          "text": [
            "Evaluating model\n",
            "Training ROC-AUC Score: 0.887089\n",
            "Validation ROC-AUC Score: 0.778292\n"
          ],
          "name": "stdout"
        }
      ]
    },
    {
      "cell_type": "markdown",
      "metadata": {
        "id": "l-LBxrKN6CMs",
        "colab_type": "text"
      },
      "source": [
        "What's going on under the hood? Could we build GraphConvModel ourselves? Of course! Let's first understand the inputs to the model and generate the relevant data.\n",
        "\n",
        "Conceptually, graph convolutions just require the structure of the molecule in question and a vector of features for every atom that describes the local chemical environment.\n",
        "\n",
        "`atom_features` holds a feature vector of length 75 for each atom. The other inputs are required to support minibatching in TensorFlow. `degree_slice` is an indexing convenience that makes it easy to locate atoms from all molecules with a given degree. `membership` determines the membership of atoms in molecules (atom `i` belongs to molecule membership[i]). `deg_adjs` is a list that contains adjacency lists grouped by atom degree. For more details, check out the [code](https://github.com/deepchem/deepchem/blob/master/deepchem/feat/mol_graphs.py).\n",
        "\n",
        "Following code creates a Python generator that given a batch of data generates the lists of inputs, labels, and weights whose values are Numpy arrays. We will use for this step of training."
      ]
    },
    {
      "cell_type": "code",
      "metadata": {
        "id": "o-cPAG0I8Tc4",
        "colab_type": "code",
        "colab": {}
      },
      "source": [
        "from deepchem.metrics import to_one_hot\n",
        "from deepchem.feat.mol_graphs import ConvMol\n",
        "\n",
        "def data_generator(dataset, predict=False, pad_batches=True):\n",
        "  for ind, (X_b, y_b, w_b, ids_b) in enumerate(\n",
        "      dataset.iterbatches(\n",
        "          batch_size, pad_batches=pad_batches, deterministic=True)):\n",
        "    multiConvMol = ConvMol.agglomerate_mols(X_b)\n",
        "    inputs = [multiConvMol.get_atom_features(), multiConvMol.deg_slice, np.array(multiConvMol.membership)]\n",
        "    for i in range(1, len(multiConvMol.get_deg_adjacency_lists())):\n",
        "      inputs.append(multiConvMol.get_deg_adjacency_lists()[i])\n",
        "    labels = [to_one_hot(y_b.flatten(), 2).reshape(-1, n_tasks, 2)]\n",
        "    weights = [w_b]\n",
        "    yield (inputs, labels, weights)"
      ],
      "execution_count": 25,
      "outputs": []
    },
    {
      "cell_type": "markdown",
      "metadata": {
        "id": "Wz43oG9rcj1j",
        "colab_type": "text"
      },
      "source": [
        "Now let's create the `Keras model` and [keras layers](https://keras.io/api/layers/) of the model.\n",
        "\n",
        "DeepChem already provides wrapper around keras layers to build graph convolutional model. We are going to apply following layers from DeepChem.\n",
        "\n",
        "-  `GraphConv` layer: This layer implements the graph convolution. The graph convolution combines per-node feature vectures in a nonlinear fashion with the feature vectors for neighboring nodes.  This \"blends\" information in local neighborhoods of a graph.\n",
        "\n",
        "- `GraphPool` layer: This layer does a max-pooling over the feature vectors of atoms in a neighborhood. You can think of this layer as analogous to a max-pooling layer for 2D convolutions but which operates on graphs instead. \n",
        "\n",
        "- `GraphGather`: Many graph convolutional networks manipulate feature vectors per graph-node. For a molecule for example, each node might represent an atom, and the network would manipulate atomic feature vectors that summarize the local chemistry of the atom. However, at the end of the application, we will likely want to work with a molecule level feature representation. This layer creates a graph level feature vector by combining all the node-level feature vectors.\n",
        "\n",
        "Apart from this we are going to apply standard neural network layers such as [Dense](https://keras.io/api/layers/core_layers/dense/), [BatchNormalization](https://keras.io/api/layers/normalization_layers/batch_normalization/) and [Softmax](https://keras.io/api/layers/activation_layers/softmax/) layer."
      ]
    },
    {
      "cell_type": "code",
      "metadata": {
        "id": "71_E0CAUcj1n",
        "colab_type": "code",
        "colab": {}
      },
      "source": [
        "from deepchem.models.layers import GraphConv, GraphPool, GraphGather\n",
        "import tensorflow as tf\n",
        "import tensorflow.keras.layers as layers\n",
        "\n",
        "batch_size = 50\n",
        "\n",
        "class MyKerasModel(tf.keras.Model):\n",
        "\n",
        "  def __init__(self):\n",
        "    super(MyKerasModel, self).__init__()\n",
        "    self.gc1 = GraphConv(128, activation_fn=tf.nn.tanh)\n",
        "    self.batch_norm1 = layers.BatchNormalization()\n",
        "    self.gp1 = GraphPool()\n",
        "\n",
        "    self.gc2 = GraphConv(128, activation_fn=tf.nn.tanh)\n",
        "    self.batch_norm2 = layers.BatchNormalization()\n",
        "    self.gp2 = GraphPool()\n",
        "\n",
        "    self.dense1 = layers.Dense(256, activation=tf.nn.tanh)\n",
        "    self.batch_norm3 = layers.BatchNormalization()\n",
        "    self.readout = GraphGather(batch_size=batch_size, activation_fn=tf.nn.tanh)\n",
        "\n",
        "    self.dense2 = layers.Dense(n_tasks*2)\n",
        "    self.logits = layers.Reshape((n_tasks, 2))\n",
        "    self.softmax = layers.Softmax()\n",
        "\n",
        "  def call(self, inputs):\n",
        "    gc1_output = self.gc1(inputs)\n",
        "    batch_norm1_output = self.batch_norm1(gc1_output)\n",
        "    gp1_output = self.gp1([batch_norm1_output] + inputs[1:])\n",
        "\n",
        "    gc2_output = self.gc2([gp1_output] + inputs[1:])\n",
        "    batch_norm2_output = self.batch_norm1(gc2_output)\n",
        "    gp2_output = self.gp2([batch_norm2_output] + inputs[1:])\n",
        "\n",
        "    dense1_output = self.dense1(gp2_output)\n",
        "    batch_norm3_output = self.batch_norm3(dense1_output)\n",
        "    readout_output = self.readout([batch_norm3_output] + inputs[1:])\n",
        "\n",
        "    logits_output = self.logits(self.dense2(readout_output))\n",
        "    return self.softmax(logits_output)"
      ],
      "execution_count": 36,
      "outputs": []
    },
    {
      "cell_type": "markdown",
      "metadata": {
        "id": "oC20PZiccj1p",
        "colab_type": "text"
      },
      "source": [
        "Let's now create the DeepChem model which will be a wrapper around the keras model that we just created. \n",
        "\n",
        "DeepChem models provide useful utilities on top of the keras model. We will also specify the loss function so the model know the objective to minimize."
      ]
    },
    {
      "cell_type": "code",
      "metadata": {
        "id": "31Wr0t2zcj1q",
        "colab_type": "code",
        "colab": {}
      },
      "source": [
        "loss = dc.models.losses.CategoricalCrossEntropy()\n",
        "model = dc.models.KerasModel(MyKerasModel(), loss=loss)"
      ],
      "execution_count": 37,
      "outputs": []
    },
    {
      "cell_type": "markdown",
      "metadata": {
        "id": "VSTbjm9Hcj1v",
        "colab_type": "text"
      },
      "source": [
        "Now, we can train the model using `fit_generator(generator)` which will use the generator we've defined to train the model."
      ]
    },
    {
      "cell_type": "code",
      "metadata": {
        "id": "59WW4rhwcj1w",
        "colab_type": "code",
        "colab": {
          "base_uri": "https://localhost:8080/",
          "height": 245
        },
        "outputId": "660ecb20-a2f4-4ae5-e0c8-bc72e309ee72"
      },
      "source": [
        "num_epochs = 10\n",
        "losses = []\n",
        "for i in range(num_epochs):\n",
        "  loss = model.fit_generator(data_generator(train_dataset))\n",
        "  print(\"Epoch %d loss: %f\" % (i, loss))\n",
        "  losses.append(loss)"
      ],
      "execution_count": 38,
      "outputs": [
        {
          "output_type": "stream",
          "text": [
            "/usr/local/lib/python3.6/dist-packages/tensorflow/python/framework/indexed_slices.py:432: UserWarning: Converting sparse IndexedSlices to a dense Tensor of unknown shape. This may consume a large amount of memory.\n",
            "  \"Converting sparse IndexedSlices to a dense Tensor of unknown shape. \"\n"
          ],
          "name": "stderr"
        },
        {
          "output_type": "stream",
          "text": [
            "Epoch 0 loss: 0.189484\n",
            "Epoch 1 loss: 0.181750\n",
            "Epoch 2 loss: 0.173860\n",
            "Epoch 3 loss: 0.129647\n",
            "Epoch 4 loss: 0.159841\n",
            "Epoch 5 loss: 0.155564\n",
            "Epoch 6 loss: 0.150758\n",
            "Epoch 7 loss: 0.139902\n",
            "Epoch 8 loss: 0.140270\n",
            "Epoch 9 loss: 0.135996\n"
          ],
          "name": "stdout"
        }
      ]
    },
    {
      "cell_type": "markdown",
      "metadata": {
        "id": "4KKBu75ccj1z",
        "colab_type": "text"
      },
      "source": [
        "Let's now plot these losses and take a quick look."
      ]
    },
    {
      "cell_type": "code",
      "metadata": {
        "id": "SaPi5y8icj11",
        "colab_type": "code",
        "colab": {
          "base_uri": "https://localhost:8080/",
          "height": 295
        },
        "outputId": "1b87260f-adfa-4b19-bb3a-55d6ce3565e4"
      },
      "source": [
        "plot.title(\"Keras Version\")\n",
        "plot.ylabel(\"Loss\")\n",
        "plot.xlabel(\"Epoch\")\n",
        "x = range(num_epochs)\n",
        "y = losses\n",
        "plot.scatter(x, y)\n",
        "plot.show()"
      ],
      "execution_count": 39,
      "outputs": [
        {
          "output_type": "display_data",
          "data": {
            "image/png": "[encoded data removed]",
            "text/plain": [
              "<Figure size 432x288 with 1 Axes>"
            ]
          },
          "metadata": {
            "tags": [],
            "needs_background": "light"
          }
        }
      ]
    },
    {
      "cell_type": "markdown",
      "metadata": {
        "id": "skrL9YEEcj13",
        "colab_type": "text"
      },
      "source": [
        "Now that we have trained our graph convolutional method, let's evaluate its performance. We again have to use our defined generator to evaluate model performance."
      ]
    },
    {
      "cell_type": "code",
      "metadata": {
        "scrolled": true,
        "id": "f3prNsgGcj14",
        "colab_type": "code",
        "colab": {
          "base_uri": "https://localhost:8080/",
          "height": 69
        },
        "outputId": "dc95fbba-f5bf-4f7b-8d56-efdc37345d80"
      },
      "source": [
        "metric = dc.metrics.Metric(dc.metrics.roc_auc_score, np.mean)\n",
        "\n",
        "def reshape_y_pred(y_true, y_pred):\n",
        "    \"\"\"\n",
        "    GraphConv always pads batches, so we need to remove the predictions\n",
        "    for the padding samples.  Also, it outputs two values for each task\n",
        "    (probabilities of positive and negative), but we only want the positive\n",
        "    probability.\n",
        "    \"\"\"\n",
        "    n_samples = len(y_true)\n",
        "    return y_pred[:n_samples, :, 1]\n",
        "    \n",
        "\n",
        "print(\"Evaluating model\")\n",
        "train_predictions = model.predict_on_generator(data_generator(train_dataset, predict=True))\n",
        "train_predictions = reshape_y_pred(train_dataset.y, train_predictions)\n",
        "train_scores = metric.compute_metric(train_dataset.y, train_predictions, train_dataset.w)\n",
        "print(\"Training ROC-AUC Score: %f\" % train_scores)\n",
        "\n",
        "valid_predictions = model.predict_on_generator(data_generator(valid_dataset, predict=True))\n",
        "valid_predictions = reshape_y_pred(valid_dataset.y, valid_predictions)\n",
        "valid_scores = metric.compute_metric(valid_dataset.y, valid_predictions, valid_dataset.w)\n",
        "print(\"Valid ROC-AUC Score: %f\" % valid_scores)"
      ],
      "execution_count": 40,
      "outputs": [
        {
          "output_type": "stream",
          "text": [
            "Evaluating model\n",
            "Training ROC-AUC Score: 0.776245\n",
            "Valid ROC-AUC Score: 0.702370\n"
          ],
          "name": "stdout"
        }
      ]
    },
    {
      "cell_type": "markdown",
      "metadata": {
        "id": "tvOYgj52cj16",
        "colab_type": "text"
      },
      "source": [
        "Success! The model we've constructed behaves nearly identically to `GraphConvModel`. If you're looking to build your own custom models, you can follow the example we've provided here to do so. We hope to see exciting constructions from your end soon!"
      ]
    },
    {
      "cell_type": "markdown",
      "metadata": {
        "collapsed": true,
        "id": "j1FrVn88cj17",
        "colab_type": "text"
      },
      "source": [
        "# Congratulations! Time to join the Community!\n",
        "\n",
        "Congratulations on completing this tutorial notebook! If you enjoyed working through the tutorial, and want to continue working with DeepChem, we encourage you to finish the rest of the tutorials in this series. You can also help the DeepChem community in the following ways:\n",
        "\n",
        "## Star DeepChem on [GitHub](https://github.com/deepchem/deepchem)\n",
        "This helps build awareness of the DeepChem project and the tools for open source drug discovery that we're trying to build.\n",
        "\n",
        "## Join the DeepChem Gitter\n",
        "The DeepChem [Gitter](https://gitter.im/deepchem/Lobby) hosts a number of scientists, developers, and enthusiasts interested in deep learning for the life sciences. Join the conversation!"
      ]
    }
  ]
}